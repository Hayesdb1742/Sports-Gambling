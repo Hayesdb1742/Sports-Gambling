{
 "cells": [
  {
   "cell_type": "code",
   "execution_count": 38,
   "metadata": {},
   "outputs": [],
   "source": [
    "import cfbd\n",
    "from cfbd.rest import ApiException\n",
    "\n",
    "configuration = cfbd.Configuration()\n",
    "configuration.api_key['Authorization'] = '04rcT5SKrEKA3iqNaGCjuvyH5M5oZ4LtP0bVHDXqnD/az808b5qIgJiq1F35vfsN'\n",
    "configuration.api_key_prefix['Authorization'] = 'Bearer'\n",
    "\n",
    "osuGames = []"
   ]
  },
  {
   "cell_type": "code",
   "execution_count": 42,
   "metadata": {},
   "outputs": [],
   "source": [
    "api_instance = cfbd.GamesApi(cfbd.ApiClient(configuration))\n",
    "lines_instance = cfbd.BettingApi(cfbd.ApiClient(configuration))\n",
    "homeTeam = 'Ohio State'\n",
    "games = api_instance.get_games(year=2014, team = homeTeam)"
   ]
  },
  {
   "cell_type": "code",
   "execution_count": 53,
   "metadata": {},
   "outputs": [],
   "source": [
    "for game in games:\n",
    "    gameId = game.id\n",
    "    try:\n",
    "        lines_response = lines_instance.get_lines(game_id=gameId)\n",
    "        \n",
    "    except ApiException as e:\n",
    "        print(\"Exception when calling BettingApi->get_lines: %s\\n\" % e)\n"
   ]
  },
  {
   "cell_type": "code",
   "execution_count": 87,
   "metadata": {},
   "outputs": [],
   "source": [
    "lines_test = lines_instance.get_lines(team=\"Ohio State\", year = 2022)\n",
    "scores = []"
   ]
  },
  {
   "cell_type": "code",
   "execution_count": 84,
   "metadata": {},
   "outputs": [],
   "source": [
    "class game:\n",
    "    def __init__(self, opponent, osuPoints, oppPoints):\n",
    "        self.opponent = opponent\n",
    "        self.osuPoints = osuPoints\n",
    "        self.oppPoints = oppPoints\n",
    "\n"
   ]
  },
  {
   "cell_type": "code",
   "execution_count": 85,
   "metadata": {},
   "outputs": [],
   "source": [
    "\n",
    "for line in lines_test:\n",
    "    if line.home_team == \"Ohio State\":\n",
    "        test = game(line.away_team, line.home_score, line.away_score)\n",
    "    else:\n",
    "        test = game(line.home_team, line.away_score, line.home_score)\n",
    "    "
   ]
  }
 ],
 "metadata": {
  "kernelspec": {
   "display_name": "gambling",
   "language": "python",
   "name": "python3"
  },
  "language_info": {
   "codemirror_mode": {
    "name": "ipython",
    "version": 3
   },
   "file_extension": ".py",
   "mimetype": "text/x-python",
   "name": "python",
   "nbconvert_exporter": "python",
   "pygments_lexer": "ipython3",
   "version": "0.0.0"
  },
  "orig_nbformat": 4
 },
 "nbformat": 4,
 "nbformat_minor": 2
}
